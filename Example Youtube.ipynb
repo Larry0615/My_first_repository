{
 "cells": [
  {
   "cell_type": "code",
   "execution_count": null,
   "id": "151930ff",
   "metadata": {},
   "outputs": [],
   "source": [
    "print ('hello world!')"
   ]
  },
  {
   "cell_type": "code",
   "execution_count": null,
   "id": "8d5c06d4",
   "metadata": {},
   "outputs": [],
   "source": [
    "patient_name = 'John Smith'"
   ]
  },
  {
   "cell_type": "code",
   "execution_count": null,
   "id": "8405629a",
   "metadata": {},
   "outputs": [],
   "source": [
    "patient_age = 20"
   ]
  },
  {
   "cell_type": "code",
   "execution_count": null,
   "id": "6c924a44",
   "metadata": {},
   "outputs": [],
   "source": [
    "input ('what is your name? ')"
   ]
  },
  {
   "cell_type": "code",
   "execution_count": null,
   "id": "948d0355",
   "metadata": {},
   "outputs": [],
   "source": [
    "name = input ('what is your name? ')"
   ]
  },
  {
   "cell_type": "code",
   "execution_count": null,
   "id": "41c1b8b3",
   "metadata": {},
   "outputs": [],
   "source": [
    "print ('hello ' + name)"
   ]
  },
  {
   "cell_type": "code",
   "execution_count": null,
   "id": "2a1ab372",
   "metadata": {},
   "outputs": [],
   "source": [
    "print ('Hello ' + name )"
   ]
  },
  {
   "cell_type": "code",
   "execution_count": null,
   "id": "bc742903",
   "metadata": {},
   "outputs": [],
   "source": [
    "print (name)"
   ]
  },
  {
   "cell_type": "code",
   "execution_count": null,
   "id": "0c006f8d",
   "metadata": {},
   "outputs": [],
   "source": [
    "print (patient_name)"
   ]
  },
  {
   "cell_type": "code",
   "execution_count": null,
   "id": "3c9cd643",
   "metadata": {},
   "outputs": [],
   "source": [
    "print (patient_age)"
   ]
  },
  {
   "cell_type": "code",
   "execution_count": null,
   "id": "bce28344",
   "metadata": {},
   "outputs": [],
   "source": [
    "birth_year = input('enter your birth year: ')"
   ]
  },
  {
   "cell_type": "code",
   "execution_count": null,
   "id": "5d9d71a4",
   "metadata": {},
   "outputs": [],
   "source": [
    "Tzanyjaage = 2023 - int(birth_year)"
   ]
  },
  {
   "cell_type": "code",
   "execution_count": null,
   "id": "5e3b6b84",
   "metadata": {},
   "outputs": [],
   "source": [
    "print (Tzanyjaage)"
   ]
  },
  {
   "cell_type": "code",
   "execution_count": null,
   "id": "dfd896b5",
   "metadata": {},
   "outputs": [],
   "source": [
    "first = input('First: ')"
   ]
  },
  {
   "cell_type": "code",
   "execution_count": null,
   "id": "fd2baa63",
   "metadata": {},
   "outputs": [],
   "source": [
    "second = input('Second: ')"
   ]
  },
  {
   "cell_type": "code",
   "execution_count": null,
   "id": "c0e71ac6",
   "metadata": {},
   "outputs": [],
   "source": [
    "sum = float(first) + float(second)"
   ]
  },
  {
   "cell_type": "code",
   "execution_count": null,
   "id": "4d9c18c2",
   "metadata": {},
   "outputs": [],
   "source": [
    "print(sum)"
   ]
  },
  {
   "cell_type": "code",
   "execution_count": null,
   "id": "98d6b5ed",
   "metadata": {},
   "outputs": [],
   "source": [
    "print('sum: '+ str(sum))"
   ]
  },
  {
   "cell_type": "code",
   "execution_count": null,
   "id": "9add8a19",
   "metadata": {},
   "outputs": [],
   "source": [
    "temperature = -11"
   ]
  },
  {
   "cell_type": "code",
   "execution_count": null,
   "id": "af947dca",
   "metadata": {},
   "outputs": [],
   "source": [
    "if temperature > 30:\n",
    "    print ('its a hot day')\n",
    "    print ('drink more water')\n",
    "elif temperature > 20:\n",
    "    print (\"it's a good day\")\n",
    "elif temperature > 10:\n",
    "    print (\"it's a bit cold\")\n",
    "else: \n",
    "    print(\"it's extremely cold\")"
   ]
  },
  {
   "cell_type": "code",
   "execution_count": null,
   "id": "a67c3d25",
   "metadata": {},
   "outputs": [],
   "source": [
    "print ('Done')"
   ]
  },
  {
   "cell_type": "code",
   "execution_count": null,
   "id": "ea6f6f6c",
   "metadata": {},
   "outputs": [],
   "source": [
    "weight = int(input(\"weight: \"))\n",
    "unit = input(\"(K)g or (L)bs : \")\n",
    "if unit.upper() == \"K\":\n",
    "    convert = weight"
   ]
  },
  {
   "cell_type": "code",
   "execution_count": null,
   "id": "14a630a7",
   "metadata": {},
   "outputs": [],
   "source": [
    "i = 1\n",
    "while i <= 5:\n",
    "    print(i)\n",
    "    i = i + 1\n",
    "    \n",
    "   \n"
   ]
  },
  {
   "cell_type": "code",
   "execution_count": null,
   "id": "e303ea49",
   "metadata": {},
   "outputs": [],
   "source": [
    "names = [\"Ade\", \"Ayo\", \"Bolu\", \"fola\"]"
   ]
  },
  {
   "cell_type": "code",
   "execution_count": null,
   "id": "2bf1c4c4",
   "metadata": {},
   "outputs": [],
   "source": [
    "print (names)"
   ]
  },
  {
   "cell_type": "code",
   "execution_count": null,
   "id": "89d5726e",
   "metadata": {},
   "outputs": [],
   "source": [
    "print (names[3])"
   ]
  },
  {
   "cell_type": "code",
   "execution_count": null,
   "id": "058cc5d7",
   "metadata": {},
   "outputs": [],
   "source": [
    "names[1] = \"Ayoade\""
   ]
  },
  {
   "cell_type": "code",
   "execution_count": null,
   "id": "d1471ca6",
   "metadata": {},
   "outputs": [],
   "source": [
    "print (names)"
   ]
  },
  {
   "cell_type": "code",
   "execution_count": null,
   "id": "ef63d688",
   "metadata": {},
   "outputs": [],
   "source": [
    "print (names[0:2])"
   ]
  },
  {
   "cell_type": "code",
   "execution_count": null,
   "id": "2168ffb9",
   "metadata": {},
   "outputs": [],
   "source": [
    "print (names)"
   ]
  },
  {
   "cell_type": "code",
   "execution_count": null,
   "id": "54c2228b",
   "metadata": {},
   "outputs": [],
   "source": [
    "print (names[0:6])"
   ]
  },
  {
   "cell_type": "code",
   "execution_count": 1,
   "id": "8e091eee",
   "metadata": {},
   "outputs": [],
   "source": [
    "numbers = [1,2,3,4,5]"
   ]
  },
  {
   "cell_type": "code",
   "execution_count": 2,
   "id": "137ad053",
   "metadata": {},
   "outputs": [],
   "source": [
    "numbers.append (6)"
   ]
  },
  {
   "cell_type": "code",
   "execution_count": 3,
   "id": "163d0c2c",
   "metadata": {},
   "outputs": [
    {
     "name": "stdout",
     "output_type": "stream",
     "text": [
      "[1, 2, 3, 4, 5, 6]\n"
     ]
    }
   ],
   "source": [
    "print (numbers)"
   ]
  },
  {
   "cell_type": "code",
   "execution_count": 4,
   "id": "23b70022",
   "metadata": {},
   "outputs": [],
   "source": [
    "numbers.insert(3, -8)"
   ]
  },
  {
   "cell_type": "code",
   "execution_count": 5,
   "id": "fba9b16f",
   "metadata": {},
   "outputs": [
    {
     "name": "stdout",
     "output_type": "stream",
     "text": [
      "[1, 2, 3, -8, 4, 5, 6]\n"
     ]
    }
   ],
   "source": [
    "print (numbers)"
   ]
  },
  {
   "cell_type": "code",
   "execution_count": 6,
   "id": "616bbd57",
   "metadata": {},
   "outputs": [],
   "source": [
    "numbers.remove(4)"
   ]
  },
  {
   "cell_type": "code",
   "execution_count": 7,
   "id": "ba6abbed",
   "metadata": {},
   "outputs": [
    {
     "name": "stdout",
     "output_type": "stream",
     "text": [
      "[1, 2, 3, -8, 5, 6]\n"
     ]
    }
   ],
   "source": [
    "print (numbers)"
   ]
  },
  {
   "cell_type": "code",
   "execution_count": 8,
   "id": "fe9a6ef9",
   "metadata": {},
   "outputs": [
    {
     "name": "stdout",
     "output_type": "stream",
     "text": [
      "True\n"
     ]
    }
   ],
   "source": [
    "print(1 in numbers)"
   ]
  },
  {
   "cell_type": "code",
   "execution_count": 9,
   "id": "f032a4c2",
   "metadata": {},
   "outputs": [
    {
     "name": "stdout",
     "output_type": "stream",
     "text": [
      "True\n"
     ]
    }
   ],
   "source": [
    "print (6 in numbers)"
   ]
  },
  {
   "cell_type": "code",
   "execution_count": 10,
   "id": "0b8e05e4",
   "metadata": {},
   "outputs": [
    {
     "name": "stdout",
     "output_type": "stream",
     "text": [
      "6\n"
     ]
    }
   ],
   "source": [
    "print(len(numbers))"
   ]
  },
  {
   "cell_type": "code",
   "execution_count": 11,
   "id": "3660574e",
   "metadata": {},
   "outputs": [],
   "source": [
    "numbers = [1,2,3,4,5]"
   ]
  },
  {
   "cell_type": "code",
   "execution_count": 12,
   "id": "0b2f5416",
   "metadata": {},
   "outputs": [
    {
     "name": "stdout",
     "output_type": "stream",
     "text": [
      "[1, 2, 3, 4, 5]\n"
     ]
    }
   ],
   "source": [
    "print (numbers)"
   ]
  },
  {
   "cell_type": "code",
   "execution_count": 13,
   "id": "e072f7fb",
   "metadata": {},
   "outputs": [
    {
     "name": "stdout",
     "output_type": "stream",
     "text": [
      "1\n",
      "2\n",
      "3\n",
      "4\n",
      "5\n"
     ]
    }
   ],
   "source": [
    "for item in numbers:\n",
    "    print(item)"
   ]
  },
  {
   "cell_type": "code",
   "execution_count": null,
   "id": "ebfbe6b5",
   "metadata": {},
   "outputs": [],
   "source": []
  }
 ],
 "metadata": {
  "kernelspec": {
   "display_name": "Python 3 (ipykernel)",
   "language": "python",
   "name": "python3"
  },
  "language_info": {
   "codemirror_mode": {
    "name": "ipython",
    "version": 3
   },
   "file_extension": ".py",
   "mimetype": "text/x-python",
   "name": "python",
   "nbconvert_exporter": "python",
   "pygments_lexer": "ipython3",
   "version": "3.11.5"
  }
 },
 "nbformat": 4,
 "nbformat_minor": 5
}
